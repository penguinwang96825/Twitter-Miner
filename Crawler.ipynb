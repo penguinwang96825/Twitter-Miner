{
 "cells": [
  {
   "cell_type": "code",
   "execution_count": 1,
   "metadata": {},
   "outputs": [],
   "source": [
    "import multiprocessing\n",
    "import tweepy\n",
    "import pandas as pd\n",
    "import numpy as np\n",
    "import matplotlib.pyplot as plt\n",
    "import seaborn as sns\n",
    "from tqdm.notebook import tqdm\n",
    "from config import *"
   ]
  },
  {
   "cell_type": "code",
   "execution_count": 2,
   "metadata": {},
   "outputs": [],
   "source": [
    "def crawl_tweet_dataframe(hashtag, count): \n",
    "    \"\"\"\n",
    "    Get KEY and ACCESS TOKEN from https://developer.twitter.com/en/apps\n",
    "    \n",
    "    Parameters:\n",
    "        hashtag: the search query string of 500 characters maximum, including operators.\n",
    "        count: the number of results to try and retrieve per page.\n",
    "    \"\"\"\n",
    "    authentication = tweepy.OAuthHandler(CONSUMER_KEY, CONSUMER_SECRET)\n",
    "    authentication.set_access_token(ACCESS_TOKEN, ACCESS_TOKEN_SECRET)\n",
    "    api = tweepy.API(authentication, wait_on_rate_limit=True, wait_on_rate_limit_notify=True)\n",
    "    maxId = -1\n",
    "    tweetCount = 0\n",
    "\n",
    "    tweet_list = []\n",
    "    while tweetCount < maxTweets: \n",
    "        if(maxId <= 0):\n",
    "            newTweets = api.search(\n",
    "                q=hashtag, count=tweetsPerQry, result_type=\"recent\", tweet_mode=\"extended\")\n",
    "        else:\n",
    "            newTweets = api.search(\n",
    "                q=hashtag, count=tweetsPerQry, max_id=str(maxId - 1), result_type=\"recent\", tweet_mode=\"extended\")\n",
    "\n",
    "        if not newTweets:\n",
    "            print(\"Tweet Habis\")\n",
    "            break\n",
    "\n",
    "        for tweet in newTweets:\n",
    "            user = tweet.user.screen_name.encode('utf-8')\n",
    "            content = tweet.full_text.encode('utf-8')\n",
    "            date = tweet.created_at\n",
    "            likes = tweet.favorite_count\n",
    "            location = tweet.coordinates[\"coordinates\"] if tweet.coordinates is not None else None\n",
    "            tweet_list.append([user, content, date, likes, location])\n",
    "\n",
    "        tweetCount += len(newTweets)\n",
    "        maxId = newTweets[-1].id\n",
    "\n",
    "    tweet_df = pd.DataFrame(tweet_list)\n",
    "    tweet_df.columns = [\"user\", \"text\", \"date\", \"likes\", \"location\"]\n",
    "    tweet_df[\"user\"] = tweet_df[\"user\"].apply(lambda x: x.decode(\"utf-8\"))\n",
    "    tweet_df[\"text\"] = tweet_df[\"text\"].apply(lambda x: x.decode(\"utf-8\"))\n",
    "\n",
    "    return tweet_df"
   ]
  },
  {
   "cell_type": "code",
   "execution_count": null,
   "metadata": {},
   "outputs": [
    {
     "name": "stderr",
     "output_type": "stream",
     "text": [
      "Rate limit reached. Sleeping for: 698\n",
      "Rate limit reached. Sleeping for: 707\n"
     ]
    }
   ],
   "source": [
    "tweetsPerQry = 100\n",
    "maxTweets = 100000\n",
    "hashtag = \"#trump\"\n",
    "\n",
    "tweet_df = crawl_tweet_dataframe(\n",
    "    hashtag=hashtag, \n",
    "    count=tweetsPerQry)"
   ]
  },
  {
   "cell_type": "code",
   "execution_count": null,
   "metadata": {},
   "outputs": [],
   "source": [
    "print(\"# of tweets: {}\".format(len(tweet_df)))\n",
    "tweet_df.head()"
   ]
  },
  {
   "cell_type": "code",
   "execution_count": null,
   "metadata": {},
   "outputs": [],
   "source": [
    "plt.figure(figsize=(10, 4))\n",
    "sns.heatmap(tweet_df.isnull(), cbar=True, cmap=sns.color_palette(\"GnBu_d\"))\n",
    "plt.title(\"Missing Values Heatmap\")\n",
    "plt.show()"
   ]
  },
  {
   "cell_type": "code",
   "execution_count": null,
   "metadata": {},
   "outputs": [],
   "source": []
  }
 ],
 "metadata": {
  "kernelspec": {
   "display_name": "nlp",
   "language": "python",
   "name": "nlp"
  },
  "language_info": {
   "codemirror_mode": {
    "name": "ipython",
    "version": 3
   },
   "file_extension": ".py",
   "mimetype": "text/x-python",
   "name": "python",
   "nbconvert_exporter": "python",
   "pygments_lexer": "ipython3",
   "version": "3.7.3"
  }
 },
 "nbformat": 4,
 "nbformat_minor": 4
}
